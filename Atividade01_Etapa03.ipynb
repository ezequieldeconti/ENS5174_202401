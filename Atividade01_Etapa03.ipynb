{
 "cells": [
  {
   "cell_type": "markdown",
   "id": "bb9acb2f-b5af-4967-85ed-8d2f30c08314",
   "metadata": {},
   "source": [
    "Etapa 03 - 09/04/24\n",
    "\n",
    "Gerar números aleatórios que representem a atividade industrial. \n",
    "\n",
    "A industria escolhida para este exercício foi Fernandes Telhas, localizado na cidade de Tubarão, SC.\n",
    "Será representado a quantidade (em tonelada) produzida de telhas de cerâmica em uma semana."
   ]
  },
  {
   "cell_type": "code",
   "execution_count": 11,
   "id": "5d8bac83-093c-4861-ac66-ce90bdb626ae",
   "metadata": {},
   "outputs": [
    {
     "name": "stdout",
     "output_type": "stream",
     "text": [
      "  dias da semana  Toneladas de telhas produzidos\n",
      "0     2024-01-01                        0.244217\n",
      "1     2024-01-02                        0.613500\n",
      "2     2024-01-03                        0.574864\n",
      "3     2024-01-04                        0.794102\n",
      "4     2024-01-05                        0.312691\n",
      "5     2024-01-06                        0.861940\n",
      "6     2024-01-07                        0.178403\n"
     ]
    }
   ],
   "source": [
    "import pandas as pd\n",
    "import numpy as np\n",
    "from datetime import datetime, timedelta\n",
    "\n",
    "# Defina o intervalo de datas desejado\n",
    "data_inicial = datetime(2024, 1, 1) #estabeleci a data de inicio\n",
    "data_final = datetime(2024, 1, 7)#estabeleci a data final da semana que quero analisar\n",
    "\n",
    "# Crie uma lista de datas dentro do intervalo especificado\n",
    "dtime = [data_inicial + timedelta(days=i) for i in range((data_final - data_inicial).days + 1)]\n",
    "\n",
    "# Criando um DataFrame\n",
    "df = pd.DataFrame()\n",
    "\n",
    "# Adicionando a série de datas ao DataFrame\n", 
    "df['dias da semana'] = dtime\n", 
    "\n",
    "# Criando uma coluna 'random' com valores aleatórios\n",
    "df['Toneladas de telhas produzidos'] = np.random.rand(len(dtime))\n",
    "\n",
    "# Imprimindo o DataFrame\n",
    "print(df)\n"
   ]
  },
  {
   "cell_type": "code",
   "execution_count": null,
   "id": "99da2985-5700-448b-b791-6196ad551444",
   "metadata": {},
   "outputs": [],
   "source": []
  }
 ],
 "metadata": {
  "kernelspec": {
   "display_name": "Python 3 (ipykernel)",
   "language": "python",
   "name": "python3"
  },
  "language_info": {
   "codemirror_mode": {
    "name": "ipython",
    "version": 3
   },
   "file_extension": ".py",
   "mimetype": "text/x-python",
   "name": "python",
   "nbconvert_exporter": "python",
   "pygments_lexer": "ipython3",
   "version": "3.11.8"
  }
 },
 "nbformat": 4,
 "nbformat_minor": 5
}
