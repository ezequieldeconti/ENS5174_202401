{
 "cells": [
  {
   "cell_type": "code",
   "execution_count": 2,
   "id": "336b355c-8986-4146-9213-f58f6c82c63a",
   "metadata": {},
   "outputs": [
    {
     "name": "stdout",
     "output_type": "stream",
     "text": [
      "Guilherme gente fina\n"
     ]
    }
   ],
   "source": [
    "#Tipos de variáveis\n",
    "a = 'Guilherme'\n",
    "b = a + ' gente fina'\n",
    "print(b)\n"
   ]
  },
  {
   "cell_type": "code",
   "execution_count": 4,
   "id": "72eaac2b-4dd7-4a39-86d1-936aa99e8b61",
   "metadata": {},
   "outputs": [
    {
     "name": "stdout",
     "output_type": "stream",
     "text": [
      "11\n",
      "<class 'int'>\n"
     ]
    }
   ],
   "source": [
    "#Tipos de variaveis inteiras\n",
    "\n",
    "c =1\n",
    "d = c + 10\n",
    "print(d)\n",
    "print(type(d))"
   ]
  },
  {
   "cell_type": "code",
   "execution_count": 14,
   "id": "02b9bfcd-1df5-431a-a972-123853417939",
   "metadata": {},
   "outputs": [
    {
     "name": "stdout",
     "output_type": "stream",
     "text": [
      "valor de g = 21.0 e o valor de h = 110.25\n",
      "<class 'float'>\n",
      "valor de f = 10 do tipo = <class 'int'>\n"
     ]
    }
   ],
   "source": [
    "#Tipos de variaveis - float\n",
    "\n",
    "f = 10.5\n",
    "g = f*2\n",
    "h = f**2\n",
    "print('valor de g = ' +str(g) + ' e o valor de h = ' +str(h))\n",
    "print(type(h))\n",
    "\n",
    "f = int(f)\n",
    "print('valor de f = ' +str(f)+ ' do tipo = ' +str(type(f)))"
   ]
  },
  {
   "cell_type": "code",
   "execution_count": 63,
   "id": "3f176bbd-016a-4d72-bd50-80ced71e2420",
   "metadata": {},
   "outputs": [
    {
     "name": "stdout",
     "output_type": "stream",
     "text": [
      "['Guilherme', 'Flavia', 'Lucas', 'Joao']\n",
      "[3, 6, 5, 7]\n"
     ]
    }
   ],
   "source": [
    "#Exemplo dicionario\n",
    "\n",
    "dicionario = {\n",
    "    'alunos':['Guilherme', 'Flavia', 'Lucas','Joao'],\n",
    "    'notas':[3,6,5,7]\n",
    "}\n",
    "print(dicionario['alunos'])\n",
    "print(dicionario['notas'])"
   ]
  },
  {
   "cell_type": "code",
   "execution_count": 64,
   "id": "2082b132-ce44-4b25-a691-d9e0cb33e6be",
   "metadata": {},
   "outputs": [
    {
     "name": "stdout",
     "output_type": "stream",
     "text": [
      "Guilherme\n",
      "Flavia\n",
      "Lucas\n",
      "Joao\n"
     ]
    }
   ],
   "source": [
    "#Treinando loop\n",
    "for aluno in dicionario['alunos']:\n",
    "    print(aluno)"
   ]
  },
  {
   "cell_type": "code",
   "execution_count": 65,
   "id": "81813f15-a0be-4123-9758-9aadb5dea078",
   "metadata": {},
   "outputs": [
    {
     "name": "stdout",
     "output_type": "stream",
     "text": [
      "3\n",
      "6\n",
      "5\n",
      "7\n"
     ]
    }
   ],
   "source": [
    "for nota in dicionario['notas']:\n",
    "    print(nota)"
   ]
  },
  {
   "cell_type": "code",
   "execution_count": 66,
   "id": "23e24017-d010-46d2-b2a0-5aa539992e6a",
   "metadata": {},
   "outputs": [
    {
     "name": "stdout",
     "output_type": "stream",
     "text": [
      "0 - Guilherme nota = 3\n",
      "1 - Flavia nota = 6\n",
      "2 - Lucas nota = 5\n",
      "3 - Joao nota = 7\n",
      "\n",
      "maneiras diferentes de fazer loop\n",
      "\n",
      "0 - Guilherme nota = 3\n",
      "1 - Flavia nota = 6\n",
      "2 - Lucas nota = 5\n",
      "3 - Joao nota = 7\n"
     ]
    }
   ],
   "source": [
    "for ii, aluno in enumerate (dicionario['alunos']):\n",
    "    print(str(ii) + ' - ' + aluno + ' nota = ' +str(dicionario['notas'][ii]))\n",
    "\n",
    "print()\n",
    "\n",
    "print('maneiras diferentes de fazer loop')\n",
    "\n",
    "print()\n",
    "\n",
    "for ii in range (0,len(dicionario['notas'])):\n",
    "    print(str(ii) + ' - '+str(dicionario['alunos'][ii]) + ' nota = ' +str(dicionario['notas'][ii]))"
   ]
  },
  {
   "cell_type": "code",
   "execution_count": 67,
   "id": "e7e0f140-9200-4296-9524-4fca578e3138",
   "metadata": {},
   "outputs": [
    {
     "name": "stdout",
     "output_type": "stream",
     "text": [
      "0 - Guilherme nota = 10\n",
      "1 - Flavia nota = 6\n",
      "2 - Lucas nota = 5\n",
      "3 - Joao nota = 7\n",
      "\n",
      "0 - Guilherme nota = 3\n",
      "1 - Flavia nota = 6\n",
      "2 - Lucas nota = 10\n",
      "3 - Joao nota = 7\n"
     ]
    }
   ],
   "source": [
    "#Treinando loop com condição\n",
    "for ii, aluno in enumerate (dicionario['alunos']):\n",
    "    if aluno == 'Guilherme':\n",
    "        print(str(ii)+ ' - '+ aluno + ' nota = 10')\n",
    "    else:\n",
    "         print(str(ii) + ' - ' + aluno + ' nota = ' +str(dicionario['notas'][ii]))\n",
    "\n",
    "print()\n",
    "\n",
    "for ii, aluno in enumerate (dicionario['alunos']):\n",
    "    if ii ==2:\n",
    "        print(str(ii)+ ' - '+ aluno + ' nota = 10')\n",
    "    else:\n",
    "         print(str(ii) + ' - ' + aluno + ' nota = ' +str(dicionario['notas'][ii]))"
   ]
  },
  {
   "cell_type": "code",
   "execution_count": 68,
   "id": "0b008220-e962-4fc0-997d-8fa667571454",
   "metadata": {},
   "outputs": [
    {
     "name": "stdout",
     "output_type": "stream",
     "text": [
      "False\n",
      "True\n",
      "False\n",
      "True\n",
      "True\n",
      "True\n",
      "False\n",
      "<class 'bool'>\n"
     ]
    }
   ],
   "source": [
    "#Operações lógicas\n",
    "a = 1\n",
    "b = 3\n",
    "c = 1\n",
    "print(a==b) #igual a - operação lógica\n",
    "print(a==c)\n",
    "print(a>b)#maior que\n",
    "print(a<b)#menor que\n",
    "print(a>=c) #maior ou igual a\n",
    "print(a!=b) #diferente de\n",
    "print(a!=c) \n",
    "\n",
    "opTF = a!=c\n",
    "print(type(opTF))\n",
    "\n",
    "opT = True\n",
    "opF = False"
   ]
  },
  {
   "cell_type": "code",
   "execution_count": 69,
   "id": "5389238d-6c99-4708-9084-afbd3e21070b",
   "metadata": {},
   "outputs": [
    {
     "name": "stdout",
     "output_type": "stream",
     "text": [
      "0 - Guilherme nota = 3\n",
      "1 - Flavia nota = 6\n",
      "2 - Lucas nota = 5\n",
      "3 - Joao nota = 10\n"
     ]
    }
   ],
   "source": [
    "for ii, aluno in enumerate (dicionario['alunos']):\n",
    "    if (aluno == 'Joao') and dicionario['notas'][ii]<=9:\n",
    "        print(str(ii)+ ' - '+ aluno + ' nota = 10')\n",
    "    else:\n",
    "         print(str(ii) + ' - ' + aluno + ' nota = ' +str(dicionario['notas'][ii]))\n"
   ]
  },
  {
   "cell_type": "code",
   "execution_count": 70,
   "id": "eac9c96c-c702-4b4c-b817-7a92aa8bcb5c",
   "metadata": {},
   "outputs": [
    {
     "name": "stdout",
     "output_type": "stream",
     "text": [
      "0 - Guilherme nota = reprovado\n",
      "1 - Flavia nota = 6\n",
      "2 - Lucas nota = reprovado\n",
      "3 - Joao nota = 7\n"
     ]
    }
   ],
   "source": [
    "for ii, aluno in enumerate (dicionario['alunos']):\n",
    "    if ('alunos') and dicionario['notas'][ii]<6:\n",
    "        print(str(ii)+ ' - '+ aluno + ' nota = reprovado')\n",
    "    else:\n",
    "         print(str(ii) + ' - ' + aluno + ' nota = ' +str(dicionario['notas'][ii]))"
   ]
  },
  {
   "cell_type": "code",
   "execution_count": 78,
   "id": "fb926650-8e85-4d46-baa1-c952e7cdab77",
   "metadata": {},
   "outputs": [
    {
     "name": "stdout",
     "output_type": "stream",
     "text": [
      "['Guilherme' 'Flavia' 'Lucas' 'Joao']\n",
      "<class 'numpy.ndarray'>\n",
      "\n",
      "[False False  True False]\n",
      "<class 'numpy.ndarray'>\n",
      "\n",
      "(array([2], dtype=int64),)\n"
     ]
    },
    {
     "name": "stderr",
     "output_type": "stream",
     "text": [
      "C:\\Users\\admin\\AppData\\Local\\Temp\\ipykernel_21372\\1661922882.py:17: DeprecationWarning: Conversion of an array with ndim > 0 to a scalar is deprecated, and will error in future. Ensure you extract a single element from your array before performing this operation. (Deprecated NumPy 1.25.)\n",
      "  dicionario['notas'][int(np.where(mat2)[0])]= 9.5\n"
     ]
    }
   ],
   "source": [
    "#Treinando numpy\n",
    "import numpy as np\n",
    "#convertendo para numpy\n",
    "mat = np.array(dicionario['alunos'])\n",
    "print(mat)\n",
    "print(type(mat))\n",
    "\n",
    "print()\n",
    "\n",
    "mat2 = np.array(mat=='Lucas')\n",
    "print(mat2)\n",
    "print(type(mat2))\n",
    "\n",
    "print()\n",
    "\n",
    "print(np.where(mat2))\n",
    "dicionario['notas'][int(np.where(mat2)[0])]= 9.5"
   ]
  },
  {
   "cell_type": "code",
   "execution_count": 80,
   "id": "67e74c0a-1d98-49e2-9b61-22d838ce1847",
   "metadata": {},
   "outputs": [
    {
     "name": "stdout",
     "output_type": "stream",
     "text": [
      "[0.3612323  0.18543719 0.7469337  0.68623427 0.72699347 0.21441835\n",
      " 0.34494783 0.16344284 0.30225226 0.7962798  0.44632678 0.41364481\n",
      " 0.29657347 0.82937328 0.54214316 0.05734706 0.95521835 0.1624677\n",
      " 0.11682746 0.59787889 0.97967361 0.08332059 0.02164476 0.52959342\n",
      " 0.31287814 0.80256787 0.31672306 0.67521875 0.95143256 0.8526318\n",
      " 0.80094595 0.98172565 0.82484188 0.00838394 0.99365618 0.56276608\n",
      " 0.74601784 0.6858318  0.43367804 0.03706929 0.86954444 0.6496098\n",
      " 0.1248954  0.7961417  0.66385043 0.36052918 0.71485244 0.54409354\n",
      " 0.83913617 0.49646072 0.17201214 0.95954257 0.17980374 0.40551047\n",
      " 0.60964667 0.81937351 0.30324718 0.52050829 0.87841955 0.46744579\n",
      " 0.66238342 0.58674297 0.391861   0.27057549 0.1994178  0.25618177\n",
      " 0.5776018  0.3133671  0.50420572 0.87112005 0.23000762 0.16249067\n",
      " 0.16633277 0.16355266 0.97093526 0.73783671 0.19618114 0.31565259\n",
      " 0.70877198 0.15598645 0.25708669 0.26294747 0.38116783 0.62473603\n",
      " 0.87119073 0.82071959 0.24922423 0.67307275 0.93268832 0.26230118\n",
      " 0.5085132  0.27483181 0.05714283 0.08865787 0.24874824 0.14959443\n",
      " 0.43182853 0.52575968 0.24904089 0.02772865]\n",
      "\n",
      "[0.35342727 0.18437625 0.67939198 0.63362837 0.66462624 0.21277913\n",
      " 0.33814758 0.16271613 0.29767112 0.71475924 0.43165506 0.40194941\n",
      " 0.29224499 0.73750827 0.51597302 0.05731563 0.81643984 0.1617539\n",
      " 0.11656189 0.56289057 0.83031552 0.08322422 0.02164307 0.5051825\n",
      " 0.30779832 0.71914278 0.31145429 0.62506808 0.81424796 0.75301474\n",
      " 0.71801482 0.83145736 0.73444048 0.00838384 0.83802649 0.53352774\n",
      " 0.67871966 0.63331696 0.42021119 0.03706081 0.7640351  0.60487572\n",
      " 0.12457095 0.71466266 0.61615411 0.35276944 0.65550599 0.51764274\n",
      " 0.74406627 0.47631654 0.17116514 0.81892914 0.17883649 0.39448788\n",
      " 0.57257782 0.73071828 0.29862079 0.49732118 0.76973093 0.45060756\n",
      " 0.61499799 0.55365168 0.38190901 0.26728603 0.19809871 0.25338879\n",
      " 0.54601635 0.3082635  0.48311215 0.7650507  0.22798494 0.16177657\n",
      " 0.16556685 0.16282448 0.82541405 0.67268881 0.19492515 0.31043689\n",
      " 0.65090199 0.15535465 0.25426407 0.25992784 0.37200474 0.58488318\n",
      " 0.76509621 0.73163656 0.24665223 0.62339154 0.80322421 0.2593037\n",
      " 0.48687911 0.27138506 0.05711174 0.08854177 0.24619092 0.1490371\n",
      " 0.41853218 0.50187023 0.24647455 0.02772509]\n"
     ]
    }
   ],
   "source": [
    "#Matriz numpy\n",
    "\n",
    "vec = np.random.rand(100)\n",
    "print(vec)\n",
    "\n",
    "print()\n",
    "\n",
    "vec2 = np.sin(vec)\n",
    "print(vec2)"
   ]
  },
  {
   "cell_type": "code",
   "execution_count": 84,
   "id": "c5312b5a-02cc-443f-9640-9b23135827e1",
   "metadata": {},
   "outputs": [
    {
     "name": "stdout",
     "output_type": "stream",
     "text": [
      "(100,)\n"
     ]
    }
   ],
   "source": [
    "#Datetime\n",
    "\n",
    "from datetime import datetime, timedelta\n",
    "\n",
    "#data inicial\n",
    "start_date = datetime(2024,1,1) \n",
    "\n",
    "#lista para armazenar as datas\n",
    "date_vector = []\n",
    "\n",
    "#Gerar datas para uma semana\n",
    "print(vec.shape)\n",
    "for i in range(0,vec.shape[0]):\n",
    "    date_vector.append(start_date + timedelta(days=i))\n",
    "    "
   ]
  },
  {
   "cell_type": "code",
   "execution_count": 86,
   "id": "9009ed85-c7f9-416a-92d2-2114b450c9a9",
   "metadata": {},
   "outputs": [
    {
     "name": "stdout",
     "output_type": "stream",
     "text": [
      "        Datas       vec      vec2\n",
      "0  2024-01-01  0.361232  0.353427\n",
      "1  2024-01-02  0.185437  0.184376\n",
      "2  2024-01-03  0.746934  0.679392\n",
      "3  2024-01-04  0.686234  0.633628\n",
      "4  2024-01-05  0.726993  0.664626\n",
      "..        ...       ...       ...\n",
      "95 2024-04-05  0.149594  0.149037\n",
      "96 2024-04-06  0.431829  0.418532\n",
      "97 2024-04-07  0.525760  0.501870\n",
      "98 2024-04-08  0.249041  0.246475\n",
      "99 2024-04-09  0.027729  0.027725\n",
      "\n",
      "[100 rows x 3 columns]\n"
     ]
    }
   ],
   "source": [
    "#criando dataframe e salvando\n",
    "import pandas as pd\n",
    "\n",
    "df = pd.DataFrame()\n",
    "df['Datas'] = date_vector\n",
    "df['vec'] = vec\n",
    "df['vec2'] = vec2\n",
    "print(df)\n",
    "\n",
    "pasta = r\"C:\\Users\\admin\\Documents\\ENS5174_202401\\Tabelas\"\n",
    "df.to_csv(pasta+'/planilha.csv')"
   ]
  },
  {
   "cell_type": "code",
   "execution_count": null,
   "id": "519c9440-affc-4ecc-9bad-34ab1d6c1180",
   "metadata": {},
   "outputs": [],
   "source": []
  }
 ],
 "metadata": {
  "kernelspec": {
   "display_name": "Python 3 (ipykernel)",
   "language": "python",
   "name": "python3"
  },
  "language_info": {
   "codemirror_mode": {
    "name": "ipython",
    "version": 3
   },
   "file_extension": ".py",
   "mimetype": "text/x-python",
   "name": "python",
   "nbconvert_exporter": "python",
   "pygments_lexer": "ipython3",
   "version": "3.11.8"
  }
 },
 "nbformat": 4,
 "nbformat_minor": 5
}
