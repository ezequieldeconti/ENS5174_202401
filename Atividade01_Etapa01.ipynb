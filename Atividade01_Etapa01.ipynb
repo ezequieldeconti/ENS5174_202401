{
 "cells": [
  {
   "cell_type": "markdown",
   "id": "aa726169-cb48-495c-852c-bcee3ebfeea4",
   "metadata": {},
   "source": [
    "\n",
    "Atividade 01 - 07/04/2024\n",
    "\n"
   ]
  },
  {
   "cell_type": "markdown",
   "id": "4ebcbe67-0564-4746-85b2-2f4416553ee0",
   "metadata": {},
   "source": [
    "Dados Numéricos\n"
   ]
  },
  {
   "cell_type": "code",
   "execution_count": 2,
   "id": "22ec3898-86bf-4045-997d-1df50f0f42e9",
   "metadata": {},
   "outputs": [
    {
     "name": "stdout",
     "output_type": "stream",
     "text": [
      "Valor de a = 1\n"
     ]
    },
    {
     "data": {
      "text/plain": [
       "int"
      ]
     },
     "execution_count": 2,
     "metadata": {},
     "output_type": "execute_result"
    }
   ],
   "source": [
    "# Variável inteira\n",
    "a = 1 #da o valor para a variável\n",
    "print('Valor de a = '+str(a)) #print é a função que imprime a mensagem especificada na tela\n",
    "type(a) #type é a função que retorna o tipo do objeto ou retorna um novo tipo de objeto baseado nas informações passadas anteriormente\n"
   ]
  },
  {
   "cell_type": "code",
   "execution_count": 69,
   "id": "8d4d7626-c22c-4a5c-92c0-521c21173b48",
   "metadata": {},
   "outputs": [
    {
     "name": "stdout",
     "output_type": "stream",
     "text": [
      "1.0\n"
     ]
    },
    {
     "data": {
      "text/plain": [
       "float"
      ]
     },
     "execution_count": 69,
     "metadata": {},
     "output_type": "execute_result"
    }
   ],
   "source": [
    "# Variável dupla precisão\n",
    "b = 1.0 #agora uma variável onde o numero não é inteiro, adicionamos o ponto para fazer essa separação da parte inteira e decimal\n",
    "print(b)\n",
    "type(b)"
   ]
  },
  {
   "cell_type": "code",
   "execution_count": 4,
   "id": "041534b2-7116-400c-a80c-efa24a3c63f7",
   "metadata": {},
   "outputs": [
    {
     "name": "stdout",
     "output_type": "stream",
     "text": [
      "1\n"
     ]
    },
    {
     "data": {
      "text/plain": [
       "int"
      ]
     },
     "execution_count": 4,
     "metadata": {},
     "output_type": "execute_result"
    }
   ],
   "source": [
    "# Converter float para int\n",
    "c = int(b) #int converte uo valor especificado em um numero inteiro \n",
    "print(c)\n",
    "type(c)"
   ]
  },
  {
   "cell_type": "code",
   "execution_count": 5,
   "id": "743b386d-8edf-4571-95c6-801ba80c859b",
   "metadata": {},
   "outputs": [
    {
     "name": "stdout",
     "output_type": "stream",
     "text": [
      "nan\n"
     ]
    },
    {
     "data": {
      "text/plain": [
       "float"
      ]
     },
     "execution_count": 5,
     "metadata": {},
     "output_type": "execute_result"
    }
   ],
   "source": [
    "# Delacrando nan\n",
    "import numpy as np\n",
    "d = np.nan\n",
    "print(d)\n",
    "type(d)"
   ]
  },
  {
   "cell_type": "code",
   "execution_count": 6,
   "id": "c2449ccd-e67d-4318-ba09-f9db925fefce",
   "metadata": {},
   "outputs": [
    {
     "name": "stdout",
     "output_type": "stream",
     "text": [
      "nan\n",
      "nan\n",
      "1.0\n"
     ]
    }
   ],
   "source": [
    "# Operação com NaN\n",
    "e = d*1\n",
    "print(e)\n",
    "e = d+1\n",
    "print(e)\n",
    "e = np.nansum([d,1])\n",
    "print(e)"
   ]
  },
  {
   "cell_type": "markdown",
   "id": "1ad81383-a971-448e-b045-430765474dc0",
   "metadata": {},
   "source": [
    "Dados de Texto\n"
   ]
  },
  {
   "cell_type": "code",
   "execution_count": 9,
   "id": "b2e3bd9b-9fc8-4bdf-a60e-9519c4e5a715",
   "metadata": {},
   "outputs": [
    {
     "name": "stdout",
     "output_type": "stream",
     "text": [
      "Ezequiel\n",
      "Roberto\n",
      "EzequielRoberto\n",
      "Ezequiel Roberto\n"
     ]
    }
   ],
   "source": [
    "# Declaração de variável texto\n",
    "f = 'Ezequiel'\n",
    "g = 'Roberto'\n",
    "print(f)\n",
    "print(g)\n",
    "print(f+g)\n",
    "print(f+' '+g) #usa ' ' para separar o f + g"
   ]
  },
  {
   "cell_type": "markdown",
   "id": "c43aec2d-e35d-488b-bd18-7782f2457649",
   "metadata": {},
   "source": [
    "Dados tipo bool - lógica"
   ]
  },
  {
   "cell_type": "code",
   "execution_count": 10,
   "id": "57ef3b8c-22ab-4900-93b3-c6b37bf6f275",
   "metadata": {},
   "outputs": [
    {
     "data": {
      "text/plain": [
       "True"
      ]
     },
     "execution_count": 10,
     "metadata": {},
     "output_type": "execute_result"
    }
   ],
   "source": [
    "a == 1 #== é usado para comparar valores de objetos, podendo resultar em true ou false"
   ]
  },
  {
   "cell_type": "code",
   "execution_count": 11,
   "id": "8c4b5c8c-da12-463d-b2ee-e9841da04ad3",
   "metadata": {},
   "outputs": [
    {
     "name": "stdout",
     "output_type": "stream",
     "text": [
      "True\n"
     ]
    },
    {
     "data": {
      "text/plain": [
       "bool"
      ]
     },
     "execution_count": 11,
     "metadata": {},
     "output_type": "execute_result"
    }
   ],
   "source": [
    "h = (a==1)\n",
    "print(h)\n",
    "type(h)"
   ]
  },
  {
   "cell_type": "code",
   "execution_count": 12,
   "id": "232fc25e-ed04-4e3c-98fb-6fe8e4362033",
   "metadata": {},
   "outputs": [
    {
     "data": {
      "text/plain": [
       "bool"
      ]
     },
     "execution_count": 12,
     "metadata": {},
     "output_type": "execute_result"
    }
   ],
   "source": [
    "i = True\n",
    "type(i)"
   ]
  },
  {
   "cell_type": "code",
   "execution_count": 13,
   "id": "d17920de-4adf-40b9-8986-857f89daffa1",
   "metadata": {},
   "outputs": [
    {
     "data": {
      "text/plain": [
       "str"
      ]
     },
     "execution_count": 13,
     "metadata": {},
     "output_type": "execute_result"
    }
   ],
   "source": [
    "ii = 'True'\n",
    "type(ii)"
   ]
  },
  {
   "cell_type": "markdown",
   "id": "b4d41bab-acfb-4904-81ee-0ac9b206b854",
   "metadata": {},
   "source": [
    "Operação de comparação"
   ]
  },
  {
   "cell_type": "code",
   "execution_count": 70,
   "id": "2160e8b6-0c6c-4f3e-bc44-fb2b10292009",
   "metadata": {},
   "outputs": [
    {
     "data": {
      "text/plain": [
       "True"
      ]
     },
     "execution_count": 70,
     "metadata": {},
     "output_type": "execute_result"
    }
   ],
   "source": [
    "# Operação ==\n",
    "a==b #comparou os valores estabelecidos anteriormente e ambos são 1, por isso a resposta foi true"
   ]
  },
  {
   "cell_type": "code",
   "execution_count": 71,
   "id": "d1d58a9b-f71d-4e91-a068-9803f3685072",
   "metadata": {},
   "outputs": [
    {
     "data": {
      "text/plain": [
       "False"
      ]
     },
     "execution_count": 71,
     "metadata": {},
     "output_type": "execute_result"
    }
   ],
   "source": [
    "# Operação ><\n",
    "a>b #como tem os mesmos valores, a não é maior que b logo é false"
   ]
  },
  {
   "cell_type": "code",
   "execution_count": 72,
   "id": "4e301950-6525-4986-a891-80f16d7695ea",
   "metadata": {},
   "outputs": [
    {
     "data": {
      "text/plain": [
       "False"
      ]
     },
     "execution_count": 72,
     "metadata": {},
     "output_type": "execute_result"
    }
   ],
   "source": [
    "# Operação !=\n",
    "a!=b #!= significa \"diferente de\" mas como são valores iguais, a resposta é false"
   ]
  },
  {
   "cell_type": "code",
   "execution_count": 73,
   "id": "986c3f27-b353-4707-9068-8d7a0acaf6a0",
   "metadata": {},
   "outputs": [
    {
     "data": {
      "text/plain": [
       "True"
      ]
     },
     "execution_count": 73,
     "metadata": {},
     "output_type": "execute_result"
    }
   ],
   "source": [
    "# Operação >= ou <=\n",
    "a>=b #pode significar \"maior ou igual a\" no caso se enquadra como igual por isso a resposta \"true\""
   ]
  },
  {
   "cell_type": "markdown",
   "id": "926a594a-62f5-4858-81bd-e65b9bfd2e9a",
   "metadata": {},
   "source": [
    "Operações matemáticas\n"
   ]
  },
  {
   "cell_type": "code",
   "execution_count": 74,
   "id": "e8c2fb6a-759d-4d9b-b7af-47248e0d951f",
   "metadata": {},
   "outputs": [
    {
     "data": {
      "text/plain": [
       "2.0"
      ]
     },
     "execution_count": 74,
     "metadata": {},
     "output_type": "execute_result"
    }
   ],
   "source": [
    "# Soma \n",
    "a+b"
   ]
  },
  {
   "cell_type": "code",
   "execution_count": 83,
   "id": "65adec39-391f-4c95-bfcc-8059450aebed",
   "metadata": {},
   "outputs": [
    {
     "name": "stdout",
     "output_type": "stream",
     "text": [
      "o valor da soma é 2.0\n"
     ]
    }
   ],
   "source": [
    "# Soma e atribui valor\n",
    "ab = a+b #soma de variáveis\n",
    "print(\"o valor da soma é \"+str(ab)) #fiz um codigo diferente para usar o +str junto para treinar"
   ]
  },
  {
   "cell_type": "code",
   "execution_count": 85,
   "id": "b3a4f8b2-b4af-4c34-9d90-fe814f5a1243",
   "metadata": {},
   "outputs": [
    {
     "name": "stdout",
     "output_type": "stream",
     "text": [
      "Não use l como nome de variável\n",
      "1.0\n"
     ]
    }
   ],
   "source": [
    "# Multiplicação\n",
    "l = a*b # Não use l como variável \n",
    "print(\"Não use l como nome de variável\")\n",
    "j = a*b #multiplicação\n",
    "print(j)"
   ]
  },
  {
   "cell_type": "code",
   "execution_count": 84,
   "id": "43b66f11-d0b9-4297-832c-9d8a1c5c8b2a",
   "metadata": {},
   "outputs": [
    {
     "data": {
      "text/plain": [
       "1.0"
      ]
     },
     "execution_count": 84,
     "metadata": {},
     "output_type": "execute_result"
    }
   ],
   "source": [
    "# Divisão\n",
    "a/b"
   ]
  },
  {
   "cell_type": "code",
   "execution_count": 86,
   "id": "343d5a21-c355-40a9-bae5-f38b3df4da90",
   "metadata": {},
   "outputs": [
    {
     "data": {
      "text/plain": [
       "25"
      ]
     },
     "execution_count": 86,
     "metadata": {},
     "output_type": "execute_result"
    }
   ],
   "source": [
    "# Potencia\n",
    "5**2"
   ]
  },
  {
   "cell_type": "code",
   "execution_count": 87,
   "id": "603c6c19-4a6c-4224-a960-891694eab6db",
   "metadata": {},
   "outputs": [
    {
     "data": {
      "text/plain": [
       "22026.465794806718"
      ]
     },
     "execution_count": 87,
     "metadata": {},
     "output_type": "execute_result"
    }
   ],
   "source": [
    "# Operações matemáticas com a bibliotéca math\n",
    "import math\n",
    "\n",
    "math.exp(10)"
   ]
  },
  {
   "cell_type": "code",
   "execution_count": 24,
   "id": "468736d3-a2de-4134-b8ac-871048218591",
   "metadata": {},
   "outputs": [
    {
     "data": {
      "text/plain": [
       "1.0"
      ]
     },
     "execution_count": 24,
     "metadata": {},
     "output_type": "execute_result"
    }
   ],
   "source": [
    "math.exp(0)"
   ]
  },
  {
   "cell_type": "code",
   "execution_count": 88,
   "id": "d6dc655b-8d0c-4290-8497-77e22d364fe0",
   "metadata": {},
   "outputs": [
    {
     "data": {
      "text/plain": [
       "2.718281828459045"
      ]
     },
     "execution_count": 88,
     "metadata": {},
     "output_type": "execute_result"
    }
   ],
   "source": [
    "math.exp(a) #pega o valor da variável de \"a\""
   ]
  },
  {
   "cell_type": "code",
   "execution_count": 89,
   "id": "2639214b-ddab-4122-acf5-199f557641c8",
   "metadata": {},
   "outputs": [
    {
     "data": {
      "text/plain": [
       "4.5399929762484854e-05"
      ]
     },
     "execution_count": 89,
     "metadata": {},
     "output_type": "execute_result"
    }
   ],
   "source": [
    "math.exp(-10)"
   ]
  },
  {
   "cell_type": "code",
   "execution_count": 90,
   "id": "7e91938d-70cc-4c05-8ca9-e710856216df",
   "metadata": {},
   "outputs": [
    {
     "data": {
      "text/plain": [
       "0.0"
      ]
     },
     "execution_count": 90,
     "metadata": {},
     "output_type": "execute_result"
    }
   ],
   "source": [
    "import math as mt\n",
    "mt.log(c)"
   ]
  },
  {
   "cell_type": "code",
   "execution_count": 28,
   "id": "a40e3761-f8e2-4a5c-b72f-e68357826763",
   "metadata": {},
   "outputs": [
    {
     "data": {
      "text/plain": [
       "2.0"
      ]
     },
     "execution_count": 28,
     "metadata": {},
     "output_type": "execute_result"
    }
   ],
   "source": [
    "mt.log10(100)"
   ]
  },
  {
   "cell_type": "markdown",
   "id": "0f92cdae-7c57-4f28-b695-fa0f426dc4b8",
   "metadata": {},
   "source": [
    "Listas"
   ]
  },
  {
   "cell_type": "code",
   "execution_count": 29,
   "id": "220b1c70-5f64-491e-8e94-7c87252429f1",
   "metadata": {},
   "outputs": [
    {
     "name": "stdout",
     "output_type": "stream",
     "text": [
      "[1, 2, 3]\n"
     ]
    }
   ],
   "source": [
    "myFirstList = [1,2,3]\n",
    "print(myFirstList) #da a resposta do mesmo jeito que foi escrito"
   ]
  },
  {
   "cell_type": "code",
   "execution_count": 98,
   "id": "89acde8e-5d29-4b28-8f31-1d0442cdd4fa",
   "metadata": {},
   "outputs": [
    {
     "name": "stdout",
     "output_type": "stream",
     "text": [
      "1\n",
      "3\n",
      "2\n"
     ]
    }
   ],
   "source": [
    "# Acessando valores da lista pelo index\n",
    "print(myFirstList[0])#o numero zero seria o primeiro valor representado, nesse caso o \"1\"\n",
    "print(myFirstList[2]) #o numero dá a posição que queremos que ele represente\n",
    "print(myFirstList[1])"
   ]
  },
  {
   "cell_type": "code",
   "execution_count": 31,
   "id": "f3f2aba5-baeb-4947-9082-978e55787c26",
   "metadata": {},
   "outputs": [
    {
     "data": {
      "text/plain": [
       "False"
      ]
     },
     "execution_count": 31,
     "metadata": {},
     "output_type": "execute_result"
    }
   ],
   "source": [
    "myFirstList==a"
   ]
  },
  {
   "cell_type": "code",
   "execution_count": 94,
   "id": "b194d4a9-4d77-4e8f-bffc-9302a0d38872",
   "metadata": {},
   "outputs": [
    {
     "data": {
      "text/plain": [
       "True"
      ]
     },
     "execution_count": 94,
     "metadata": {},
     "output_type": "execute_result"
    }
   ],
   "source": [
    "myFirstList[0]==a #fez a comparação de myFristList[0] com \"a\""
   ]
  },
  {
   "cell_type": "code",
   "execution_count": 33,
   "id": "5a8e5b6d-3c50-40f7-a2e3-7f6ea20821eb",
   "metadata": {},
   "outputs": [
    {
     "name": "stdout",
     "output_type": "stream",
     "text": [
      "[1, 1, 'c']\n"
     ]
    }
   ],
   "source": [
    "mySecList = [1,a,'c'] #criou uma segunda lista\n",
    "print(mySecList)"
   ]
  },
  {
   "cell_type": "code",
   "execution_count": 95,
   "id": "7b31f335-a35d-4961-b3d8-45fdd55dce01",
   "metadata": {},
   "outputs": [
    {
     "data": {
      "text/plain": [
       "list"
      ]
     },
     "execution_count": 95,
     "metadata": {},
     "output_type": "execute_result"
    }
   ],
   "source": [
    "type(mySecList) #retornou "
   ]
  },
  {
   "cell_type": "code",
   "execution_count": 35,
   "id": "0f0a877e-f325-4172-a766-a902a13ba13e",
   "metadata": {},
   "outputs": [
    {
     "data": {
      "text/plain": [
       "str"
      ]
     },
     "execution_count": 35,
     "metadata": {},
     "output_type": "execute_result"
    }
   ],
   "source": [
    "type(mySecList[2])"
   ]
  },
  {
   "cell_type": "code",
   "execution_count": 36,
   "id": "83e79dbd-c2c4-4bd3-af56-f01b351ab2e8",
   "metadata": {},
   "outputs": [
    {
     "data": {
      "text/plain": [
       "int"
      ]
     },
     "execution_count": 36,
     "metadata": {},
     "output_type": "execute_result"
    }
   ],
   "source": [
    "type(mySecList[1])"
   ]
  },
  {
   "cell_type": "markdown",
   "id": "e27064f5-39a6-4292-a24c-c040775e174c",
   "metadata": {},
   "source": [
    "Caminhos = path\n"
   ]
  },
  {
   "cell_type": "code",
   "execution_count": 38,
   "id": "70798fa1-9a1b-426d-9755-fcf5a5503cef",
   "metadata": {},
   "outputs": [
    {
     "name": "stdout",
     "output_type": "stream",
     "text": [
      "C:Users\\admin\\Documents\\ENS5174_202401\n"
     ]
    }
   ],
   "source": [
    "path = r\"C:\\Users\\admin\\Documents\\ENS5174_202401\"\n",
    "print(path) #usamos o path para buscar o caminho de um arquivo desejado"
   ]
  },
  {
   "cell_type": "code",
   "execution_count": 43,
   "id": "6fc2b448-e906-4014-8014-5ddb8765c2fc",
   "metadata": {},
   "outputs": [
    {
     "name": "stdout",
     "output_type": "stream",
     "text": [
      "C:\\Users\\admin\\Documents\\ENS5174_202401\n"
     ]
    }
   ],
   "source": [
    "path = r\"C:\\Users\\admin\\Documents\\ENS5174_202401\"\n",
    "print(path)"
   ]
  },
  {
   "cell_type": "code",
   "execution_count": 44,
   "id": "c83c6af4-188f-405c-8f67-8d7c9145cb51",
   "metadata": {},
   "outputs": [
    {
     "data": {
      "text/plain": [
       "['.git',\n",
       " '.gitignore',\n",
       " 'Aula01.ipynb',\n",
       " 'inputs',\n",
       " 'README.md',\n",
       " 'scripts',\n",
       " 'venv']"
      ]
     },
     "execution_count": 44,
     "metadata": {},
     "output_type": "execute_result"
    }
   ],
   "source": [
    "import os\n",
    "# Listar arquivos na pasta\n",
    "os.listdir(path) #guia de listagem de arquivo em um diretório em Python"
   ]
  },
  {
   "cell_type": "code",
   "execution_count": 99,
   "id": "9f4f0dfd-f442-4d42-a34f-65960a0bebf2",
   "metadata": {},
   "outputs": [
    {
     "data": {
      "text/plain": [
       "'.git'"
      ]
     },
     "execution_count": 99,
     "metadata": {},
     "output_type": "execute_result"
    }
   ],
   "source": [
    "# Selecionar primeiro arquivo listado\n",
    "os.listdir(path)[0] #posição 0 está o git"
   ]
  },
  {
   "cell_type": "code",
   "execution_count": 46,
   "id": "73d3804f-abe9-4f02-81ce-aeff7af40e04",
   "metadata": {},
   "outputs": [
    {
     "data": {
      "text/plain": [
       "'C:\\\\Users\\\\admin\\\\Documents\\\\ENS5174_202401/.git'"
      ]
     },
     "execution_count": 46,
     "metadata": {},
     "output_type": "execute_result"
    }
   ],
   "source": [
    "# Concatenando caminhos\n",
    "path+\"/\"+os.listdir(path)[0] #unindo conteúdo de duas strings"
   ]
  },
  {
   "cell_type": "code",
   "execution_count": 47,
   "id": "b4956935-9a63-4ce2-8b96-efa8ebc873dc",
   "metadata": {},
   "outputs": [
    {
     "data": {
      "text/plain": [
       "['COMMIT_EDITMSG',\n",
       " 'config',\n",
       " 'description',\n",
       " 'FETCH_HEAD',\n",
       " 'HEAD',\n",
       " 'hooks',\n",
       " 'index',\n",
       " 'info',\n",
       " 'logs',\n",
       " 'objects',\n",
       " 'ORIG_HEAD',\n",
       " 'packed-refs',\n",
       " 'refs']"
      ]
     },
     "execution_count": 47,
     "metadata": {},
     "output_type": "execute_result"
    }
   ],
   "source": [
    "# Listando caminho concatenado\n",
    "os.listdir(path+\"/\"+os.listdir(path)[0]) #listando os conteúdos juntados"
   ]
  },
  {
   "cell_type": "code",
   "execution_count": 48,
   "id": "07702a1b-f0d8-4f0f-8d3e-2ccf1a0ba915",
   "metadata": {},
   "outputs": [
    {
     "data": {
      "text/plain": [
       "'C:\\\\Users\\\\admin\\\\Documents\\\\ENS5174_202401\\\\venv\\\\Scripts'"
      ]
     },
     "execution_count": 48,
     "metadata": {},
     "output_type": "execute_result"
    }
   ],
   "source": [
    "# Diretório que estou trababalhando\n",
    "os.getcwd() #retorna o diretório de trabalho atual"
   ]
  },
  {
   "cell_type": "code",
   "execution_count": 49,
   "id": "a8967146-1c3b-4a89-871c-c0814323d81b",
   "metadata": {},
   "outputs": [],
   "source": [
    "# Mudo de diretório para o caminho \n",
    "os.chdir('C:\\\\Users\\\\admin\\\\Documents\\\\') #altera o diretório de trabalho atual para um caminho específico"
   ]
  },
  {
   "cell_type": "code",
   "execution_count": 50,
   "id": "de3a8510-37b1-4cb7-ab2d-4b49265cb3be",
   "metadata": {},
   "outputs": [
    {
     "data": {
      "text/plain": [
       "'C:\\\\Users\\\\admin\\\\Documents'"
      ]
     },
     "execution_count": 50,
     "metadata": {},
     "output_type": "execute_result"
    }
   ],
   "source": [
    "os.getcwd()"
   ]
  },
  {
   "cell_type": "code",
   "execution_count": 51,
   "id": "37248589-91bc-4251-ae03-18b0c9c6b704",
   "metadata": {},
   "outputs": [
    {
     "name": "stdout",
     "output_type": "stream",
     "text": [
      "Criando diretório C:\\Users\\admin\\Documents/test\n"
     ]
    }
   ],
   "source": [
    "# Criando diretório\n",
    "new_path = os.getcwd()+'/test'\n",
    "\n",
    "if os.path.isdir(new_path): #if cria uma condição \n",
    "    print('diretório já existe')\n",
    "else:                                        #else complementa o if\n",
    "    print('Criando diretório '+new_path)\n",
    "    os.mkdir(new_path)"
   ]
  },
  {
   "cell_type": "code",
   "execution_count": 52,
   "id": "a12ac664-9718-4533-9516-d1596b34ffaa",
   "metadata": {},
   "outputs": [
    {
     "name": "stdout",
     "output_type": "stream",
     "text": [
      "Criando diretório C:\\Users\\admin\\Documents/test2\n"
     ]
    }
   ],
   "source": [
    "# Criando diretório\n",
    "new_path = os.getcwd()+'/test2'\n",
    "\n",
    "if os.path.isdir(new_path):\n",
    "    print('diretório já existe')\n",
    "    # Criando um arquivo de texto\n",
    "    with open(new_path+\"/copy.txt\", \"w\") as file:\n",
    "        file.write(\"Your text goes here\")\n",
    "else:\n",
    "    print('Criando diretório '+new_path)\n",
    "    os.mkdir(new_path)\n",
    "    with open(new_path+\"/copy.txt\", \"w\") as file:\n",
    "        file.write(\"Your text goes here\")"
   ]
  },
  {
   "cell_type": "markdown",
   "id": "937202c2-50d0-4c04-96bd-e6102c132565",
   "metadata": {},
   "source": [
    "Numpy arrays e Pandas DataFrames"
   ]
  },
  {
   "cell_type": "code",
   "execution_count": 53,
   "id": "e8eddce3-46bd-4c27-ae99-b7213188d899",
   "metadata": {},
   "outputs": [
    {
     "data": {
      "text/plain": [
       "numpy.ndarray"
      ]
     },
     "execution_count": 53,
     "metadata": {},
     "output_type": "execute_result"
    }
   ],
   "source": [
    "import numpy as np\n",
    "# Criando uma variável numpy\n",
    "n = np.array(0)\n",
    "type(n)"
   ]
  },
  {
   "cell_type": "code",
   "execution_count": 54,
   "id": "75a433b6-94e0-43d7-8035-288b97cd7338",
   "metadata": {},
   "outputs": [
    {
     "name": "stdout",
     "output_type": "stream",
     "text": [
      "[ 1  2  3 10 20 55]\n"
     ]
    }
   ],
   "source": [
    "# Criando uma variável numpy a partir de uma lista\n",
    "myThirdList=[1,2,3,10,20,55]\n",
    "n = np.array(myThirdList)\n",
    "print(n)"
   ]
  },
  {
   "cell_type": "code",
   "execution_count": 55,
   "id": "11395f17-b8fc-45c3-9b55-3fd47c104a1c",
   "metadata": {},
   "outputs": [
    {
     "name": "stdout",
     "output_type": "stream",
     "text": [
      "[[0.51707514 0.97236681 0.7394582  0.72974558 0.12281848 0.53314702\n",
      "  0.83733813 0.64723194 0.95149433 0.9098236 ]\n",
      " [0.62366785 0.03069186 0.28813578 0.99216436 0.31673189 0.84239795\n",
      "  0.89971734 0.25424215 0.0110261  0.66383908]\n",
      " [0.86055162 0.45362332 0.76343778 0.30176176 0.65499907 0.00937182\n",
      "  0.01522104 0.56413879 0.14888022 0.81266494]\n",
      " [0.15054676 0.4658138  0.34123357 0.97193019 0.925103   0.61530634\n",
      "  0.97573731 0.27551917 0.51785182 0.48855838]\n",
      " [0.19904756 0.24439994 0.96780004 0.62833659 0.31238797 0.89223995\n",
      "  0.4063449  0.55151119 0.39186808 0.03267094]\n",
      " [0.56100129 0.12160452 0.17431794 0.95032675 0.4237497  0.53791292\n",
      "  0.92057644 0.879277   0.56069805 0.97644704]\n",
      " [0.43383443 0.22335855 0.84847221 0.73702667 0.98720907 0.7556679\n",
      "  0.49359475 0.89483154 0.90701944 0.2508256 ]\n",
      " [0.63404568 0.96215478 0.06022406 0.90328826 0.57059549 0.46767821\n",
      "  0.43119413 0.8312102  0.26340941 0.01292152]\n",
      " [0.30190602 0.18472923 0.79619664 0.46165996 0.46252765 0.06023358\n",
      "  0.76494747 0.12044694 0.67037842 0.24975435]\n",
      " [0.95128614 0.31564213 0.40536288 0.22173643 0.63917273 0.53987854\n",
      "  0.68379341 0.90877182 0.22796064 0.94311364]]\n",
      "(10, 10)\n"
     ]
    }
   ],
   "source": [
    "# Criando uma matriz de 10x10 de números aleatórios entre 0 e 1\n",
    "n = np.random.rand(10,10) #cria a matriz 10x10 com valores aleatórios\n",
    "print(n)\n",
    "# Dimensões da matrix\n",
    "print(n.shape)"
   ]
  },
  {
   "cell_type": "code",
   "execution_count": 56,
   "id": "1cd5a064-4b40-4be9-8470-69d3e5351468",
   "metadata": {},
   "outputs": [
    {
     "data": {
      "text/plain": [
       "array([0.51707514, 0.97236681, 0.7394582 , 0.72974558, 0.12281848,\n",
       "       0.53314702, 0.83733813, 0.64723194, 0.95149433, 0.9098236 ])"
      ]
     },
     "execution_count": 56,
     "metadata": {},
     "output_type": "execute_result"
    }
   ],
   "source": [
    "# Acessando valores da matriz\n",
    "n[0,:]"
   ]
  },
  {
   "cell_type": "code",
   "execution_count": 57,
   "id": "b2668cf2-c4f5-429c-9857-5fb9f532c2e6",
   "metadata": {},
   "outputs": [
    {
     "data": {
      "text/plain": [
       "array([0.51707514, 0.62366785, 0.86055162, 0.15054676, 0.19904756,\n",
       "       0.56100129, 0.43383443, 0.63404568, 0.30190602, 0.95128614])"
      ]
     },
     "execution_count": 57,
     "metadata": {},
     "output_type": "execute_result"
    }
   ],
   "source": [
    "n[:,0]"
   ]
  },
  {
   "cell_type": "code",
   "execution_count": 58,
   "id": "ae99f01f-9302-402a-9d2a-7cf74b034a8d",
   "metadata": {},
   "outputs": [
    {
     "data": {
      "text/plain": [
       "array([[0.97236681, 0.7394582 , 0.72974558, 0.12281848],\n",
       "       [0.03069186, 0.28813578, 0.99216436, 0.31673189],\n",
       "       [0.45362332, 0.76343778, 0.30176176, 0.65499907],\n",
       "       [0.4658138 , 0.34123357, 0.97193019, 0.925103  ],\n",
       "       [0.24439994, 0.96780004, 0.62833659, 0.31238797],\n",
       "       [0.12160452, 0.17431794, 0.95032675, 0.4237497 ],\n",
       "       [0.22335855, 0.84847221, 0.73702667, 0.98720907],\n",
       "       [0.96215478, 0.06022406, 0.90328826, 0.57059549],\n",
       "       [0.18472923, 0.79619664, 0.46165996, 0.46252765],\n",
       "       [0.31564213, 0.40536288, 0.22173643, 0.63917273]])"
      ]
     },
     "execution_count": 58,
     "metadata": {},
     "output_type": "execute_result"
    }
   ],
   "source": [
    "n[:,1:5]"
   ]
  },
  {
   "cell_type": "code",
   "execution_count": 59,
   "id": "e6bf6ddb-40b6-4430-922d-3ab0ea082c40",
   "metadata": {},
   "outputs": [
    {
     "data": {
      "text/plain": [
       "array([0.97236681, 0.7394582 , 0.72974558, 0.12281848])"
      ]
     },
     "execution_count": 59,
     "metadata": {},
     "output_type": "execute_result"
    }
   ],
   "source": [
    "n[0,1:5]"
   ]
  },
  {
   "cell_type": "code",
   "execution_count": 60,
   "id": "f4e3bbb7-847b-4d94-b38d-b02f2c3e8a4e",
   "metadata": {},
   "outputs": [
    {
     "data": {
      "text/plain": [
       "0.9098236026635861"
      ]
     },
     "execution_count": 60,
     "metadata": {},
     "output_type": "execute_result"
    }
   ],
   "source": [
    "n[0,-1]"
   ]
  },
  {
   "cell_type": "code",
   "execution_count": 61,
   "id": "b3241202-2ed8-49b8-9442-4834e01df804",
   "metadata": {},
   "outputs": [
    {
     "data": {
      "text/plain": [
       "array([0.12281848, 0.53314702, 0.83733813, 0.64723194, 0.95149433])"
      ]
     },
     "execution_count": 61,
     "metadata": {},
     "output_type": "execute_result"
    }
   ],
   "source": [
    "n[0,4:-1]"
   ]
  },
  {
   "cell_type": "code",
   "execution_count": 62,
   "id": "5de4b947-06b2-4b13-af7a-e3c213858e8c",
   "metadata": {},
   "outputs": [
    {
     "data": {
      "text/plain": [
       "array([0.12281848, 0.53314702, 0.83733813, 0.64723194, 0.95149433,\n",
       "       0.9098236 ])"
      ]
     },
     "execution_count": 62,
     "metadata": {},
     "output_type": "execute_result"
    }
   ],
   "source": [
    "n[0,4:]"
   ]
  },
  {
   "cell_type": "code",
   "execution_count": 63,
   "id": "6723266c-92c7-45d6-ab22-cc282414de69",
   "metadata": {},
   "outputs": [
    {
     "name": "stdout",
     "output_type": "stream",
     "text": [
      "[[ 0.94987083  1.58141575  1.30760039  1.29437859 -0.48760987  0.98047985\n",
      "   1.4319106   1.17438734  1.55971636  1.51493337]\n",
      " [ 1.13730057 -1.87432005  0.36511447  1.60157141  0.45973827  1.43793516\n",
      "   1.50376328  0.23996979 -2.89805244  1.19972241]\n",
      " [ 1.45925624  0.81894979  1.33951426  0.41132045  1.18631645 -3.06060959\n",
      "  -2.57563841  1.03698294 -0.29517529  1.40200153]\n",
      " [-0.28404366  0.84546861  0.53424982  1.58096662  1.53158771  1.12380288\n",
      "   1.58487604  0.32033985  0.95137176  0.89314162]\n",
      " [-0.00477355  0.20048861  1.57670812  1.14475863  0.44592855  1.49541773\n",
      "   0.70888494  1.01434475  0.6726079  -1.81183146]\n",
      " [ 1.03140585 -0.49754321 -0.1374365   1.55848851  0.75082559  0.98937933\n",
      "   1.52668268  1.48078261  1.03086516  1.58560315]\n",
      " [ 0.7743456   0.11046097  1.44511997  1.30430671  1.59656448  1.32928463\n",
      "   0.90339746  1.49831811  1.51184652  0.22644051]\n",
      " [ 1.15380364  1.57085797 -1.20024551  1.50772437  1.04836316  0.84946311\n",
      "   0.76824103  1.42456535  0.27539216 -2.73942315]\n",
      " [ 0.41179842 -0.07942624  1.38152882  0.83651125  0.83838898 -1.2000873\n",
      "   1.3414898  -0.50710808  1.20952499  0.22216047]\n",
      " [ 1.55949754  0.4562917   0.70646531  0.10317205  1.16185736  0.99302682\n",
      "   1.22933847  1.51377667  0.1308556   1.55086942]]\n"
     ]
    }
   ],
   "source": [
    "an = np.log(n*5)\n",
    "print(an)"
   ]
  },
  {
   "cell_type": "code",
   "execution_count": null,
   "id": "75c5d168-edcb-42d2-85a7-7900a2e2d070",
   "metadata": {},
   "outputs": [],
   "source": []
  }
 ],
 "metadata": {
  "kernelspec": {
   "display_name": "Python 3 (ipykernel)",
   "language": "python",
   "name": "python3"
  },
  "language_info": {
   "codemirror_mode": {
    "name": "ipython",
    "version": 3
   },
   "file_extension": ".py",
   "mimetype": "text/x-python",
   "name": "python",
   "nbconvert_exporter": "python",
   "pygments_lexer": "ipython3",
   "version": "3.11.8"
  }
 },
 "nbformat": 4,
 "nbformat_minor": 5
}
