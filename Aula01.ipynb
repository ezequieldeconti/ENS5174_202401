{
 "cells": [
  {
   "cell_type": "code",
   "execution_count": null,
   "id": "76001801-1333-41a6-b8c1-4881d94716e7",
   "metadata": {},
   "outputs": [],
   "source": [
    "# Aula 03/04/2024 - Comandos Básicos no Python"
   ]
  },
  {
   "cell_type": "markdown",
   "id": "c81ea74e-fb7a-4fea-b672-9573d5e9c87c",
   "metadata": {},
   "source": [
    "# Aula 03/04/2024 - Comandos Básicos no Python\n",
    "Nesta aula aprenderemos a importar pacotes e os tipos de variáveis \\\n",
    "Desenvolvedor: Ezequiel de Conti\n"
   ]
  },
  {
   "cell_type": "markdown",
   "id": "d6060d7d-5a51-4865-beb7-837fbbccf66f",
   "metadata": {},
   "source": [
    "## Tipos de variáveis"
   ]
  },
  {
   "cell_type": "code",
   "execution_count": 11,
   "id": "3e4222bb-2d56-4574-9e7a-cbbda2a76426",
   "metadata": {},
   "outputs": [
    {
     "name": "stdout",
     "output_type": "stream",
     "text": [
      "a = 1\n",
      "<class 'int'>\n"
     ]
    }
   ],
   "source": [
    "#criando variáveis inteiras\n",
    "a = 1\n",
    "print('a = '+str(a))  # usa o print como saída do código\n",
    "print (type(a))"
   ]
  },
  {
   "cell_type": "code",
   "execution_count": 13,
   "id": "f1a84b5d-9c1b-4fa1-be1b-a264e2a9b492",
   "metadata": {},
   "outputs": [
    {
     "name": "stdout",
     "output_type": "stream",
     "text": [
      "Salve o Internacional\n",
      "<class 'str'>\n"
     ]
    }
   ],
   "source": [
    "# criando variáveis string\n",
    "b = 'Salve o '\n",
    "c = 'Internacional'\n",
    "print(b+c)\n",
    "print(type(b))"
   ]
  },
  {
   "cell_type": "code",
   "execution_count": 14,
   "id": "5c15a542-eff5-4972-9695-09c25140b3bd",
   "metadata": {},
   "outputs": [
    {
     "name": "stdout",
     "output_type": "stream",
     "text": [
      "666.666\n",
      "<class 'float'>\n"
     ]
    }
   ],
   "source": [
    "# criando variáveis float/double precision\n",
    "d = 666.666\n",
    "print(d)\n",
    "print(type(d))"
   ]
  }
 ],
 "metadata": {
  "kernelspec": {
   "display_name": "Python 3 (ipykernel)",
   "language": "python",
   "name": "python3"
  },
  "language_info": {
   "codemirror_mode": {
    "name": "ipython",
    "version": 3
   },
   "file_extension": ".py",
   "mimetype": "text/x-python",
   "name": "python",
   "nbconvert_exporter": "python",
   "pygments_lexer": "ipython3",
   "version": "3.11.8"
  }
 },
 "nbformat": 4,
 "nbformat_minor": 5
}
